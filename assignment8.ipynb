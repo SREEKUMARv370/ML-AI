{
  "nbformat": 4,
  "nbformat_minor": 0,
  "metadata": {
    "colab": {
      "provenance": []
    },
    "kernelspec": {
      "name": "python3",
      "display_name": "Python 3"
    },
    "language_info": {
      "name": "python"
    }
  },
  "cells": [
    {
      "cell_type": "code",
      "source": [
        "import pandas as pd\n",
        "import numpy as np\n",
        "from sklearn.model_selection import train_test_split\n",
        "from sklearn.preprocessing import LabelEncoder\n",
        "from sklearn.feature_extraction.text import TfidfVectorizer\n",
        "from sklearn.metrics import accuracy_score, classification_report\n",
        "from sklearn.svm import SVC\n",
        "\n",
        "# Load dataset\n",
        "data = pd.read_csv('/content/judge-1377884607_tweet_product_company.csv',encoding='ISO-8859-1')\n",
        "\n",
        "# Extract relevant columns\n",
        "tweets = data['tweet_text']\n",
        "brands = data['emotion_in_tweet_is_directed_at']\n",
        "sentiments = data['is_there_an_emotion_directed_at_a_brand_or_product']\n",
        "\n",
        "# Filter out rows where the brand is not specified or the sentiment is 'no emotion toward brand or product'\n",
        "data = data[(brands.notnull()) & (sentiments != \"No emotion toward brand or product\")]\n",
        "\n",
        "# Encode sentiments as binary labels (0 for negative, 1 for positive)\n",
        "label_encoder = LabelEncoder()\n",
        "data['sentiment'] = label_encoder.fit_transform(data['is_there_an_emotion_directed_at_a_brand_or_product'])\n",
        "\n",
        "# Preprocess text data\n",
        "vectorizer = TfidfVectorizer(max_features=1000, stop_words='english')\n",
        "X = vectorizer.fit_transform(data['tweet_text'])\n",
        "y = data['sentiment']\n",
        "\n",
        "# Split data into training and testing sets\n",
        "X_train, X_test, y_train, y_test = train_test_split(X, y, test_size=0.2, random_state=42)\n",
        "\n",
        "# Train SVM classifier\n",
        "svm_classifier = SVC(kernel='linear')\n",
        "svm_classifier.fit(X_train, y_train)\n",
        "\n",
        "# Predictions\n",
        "y_pred_train = svm_classifier.predict(X_train)\n",
        "y_pred_test = svm_classifier.predict(X_test)\n",
        "\n",
        "# Evaluation\n",
        "train_accuracy = accuracy_score(y_train, y_pred_train)\n",
        "test_accuracy = accuracy_score(y_test, y_pred_test)\n",
        "\n",
        "print(\"Training Accuracy:\", train_accuracy)\n",
        "print(\"Testing Accuracy:\", test_accuracy)\n",
        "\n",
        "print(\"\\nClassification Report for Testing Data:\")\n",
        "print(classification_report(y_test, y_pred_test, target_names=label_encoder.classes_))\n"
      ],
      "metadata": {
        "colab": {
          "base_uri": "https://localhost:8080/"
        },
        "id": "cniNcTDtjwTo",
        "outputId": "e813f0ff-d399-4b94-aae7-e0704989d60b"
      },
      "execution_count": 20,
      "outputs": [
        {
          "output_type": "stream",
          "name": "stdout",
          "text": [
            "Training Accuracy: 0.89609375\n",
            "Testing Accuracy: 0.8671875\n",
            "\n",
            "Classification Report for Testing Data:\n",
            "                  precision    recall  f1-score   support\n",
            "\n",
            "    I can't tell       0.00      0.00      0.00         1\n",
            "Negative emotion       0.85      0.22      0.35       103\n",
            "Positive emotion       0.87      0.99      0.93       536\n",
            "\n",
            "        accuracy                           0.87       640\n",
            "       macro avg       0.57      0.41      0.43       640\n",
            "    weighted avg       0.86      0.87      0.83       640\n",
            "\n"
          ]
        },
        {
          "output_type": "stream",
          "name": "stderr",
          "text": [
            "/usr/local/lib/python3.10/dist-packages/sklearn/metrics/_classification.py:1344: UndefinedMetricWarning: Precision and F-score are ill-defined and being set to 0.0 in labels with no predicted samples. Use `zero_division` parameter to control this behavior.\n",
            "  _warn_prf(average, modifier, msg_start, len(result))\n",
            "/usr/local/lib/python3.10/dist-packages/sklearn/metrics/_classification.py:1344: UndefinedMetricWarning: Precision and F-score are ill-defined and being set to 0.0 in labels with no predicted samples. Use `zero_division` parameter to control this behavior.\n",
            "  _warn_prf(average, modifier, msg_start, len(result))\n",
            "/usr/local/lib/python3.10/dist-packages/sklearn/metrics/_classification.py:1344: UndefinedMetricWarning: Precision and F-score are ill-defined and being set to 0.0 in labels with no predicted samples. Use `zero_division` parameter to control this behavior.\n",
            "  _warn_prf(average, modifier, msg_start, len(result))\n"
          ]
        }
      ]
    }
  ]
}