{
  "nbformat": 4,
  "nbformat_minor": 0,
  "metadata": {
    "colab": {
      "provenance": []
    },
    "kernelspec": {
      "name": "python3",
      "display_name": "Python 3"
    },
    "language_info": {
      "name": "python"
    }
  },
  "cells": [
    {
      "cell_type": "code",
      "execution_count": 1,
      "metadata": {
        "colab": {
          "base_uri": "https://localhost:8080/"
        },
        "id": "8BaoYYoSRaAf",
        "outputId": "180490be-d427-4f99-cf65-1e801072be63"
      },
      "outputs": [
        {
          "output_type": "stream",
          "name": "stdout",
          "text": [
            "Pregnancies                 0\n",
            "Glucose                     0\n",
            "BloodPressure               0\n",
            "SkinThickness               0\n",
            "Insulin                     0\n",
            "BMI                         0\n",
            "DiabetesPedigreeFunction    0\n",
            "Age                         0\n",
            "Outcome                     0\n",
            "dtype: int64\n"
          ]
        }
      ],
      "source": [
        "import pandas as pd\n",
        "from sklearn.impute import SimpleImputer\n",
        "\n",
        "data = pd.read_csv('/content/diabetes (1).csv')\n",
        "\n",
        "# Replace zeros with NaNs\n",
        "data[['Glucose', 'BloodPressure', 'SkinThickness', 'Insulin', 'BMI', 'Age']] = data[['Glucose', 'BloodPressure', 'SkinThickness', 'Insulin', 'BMI', 'Age']].replace(0, float('nan'))\n",
        "\n",
        "# Define imputer\n",
        "imputer = SimpleImputer(strategy='mean')  # You can change the strategy to 'median' or 'most_frequent' as well\n",
        "\n",
        "# Impute missing values\n",
        "data_imputed = imputer.fit_transform(data)\n",
        "\n",
        "# Convert back to DataFrame\n",
        "data_imputed = pd.DataFrame(data_imputed, columns=data.columns)\n",
        "\n",
        "# Check if there are any missing values left\n",
        "print(data_imputed.isnull().sum())\n"
      ]
    },
    {
      "cell_type": "code",
      "source": [],
      "metadata": {
        "id": "MFqZgDrwSE4D"
      },
      "execution_count": null,
      "outputs": []
    }
  ]
}