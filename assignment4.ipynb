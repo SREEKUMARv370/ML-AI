{
  "nbformat": 4,
  "nbformat_minor": 0,
  "metadata": {
    "colab": {
      "provenance": [],
      "machine_shape": "hm"
    },
    "kernelspec": {
      "name": "python3",
      "display_name": "Python 3"
    },
    "accelerator": "GPU"
  },
  "cells": [
    {
      "cell_type": "code",
      "source": [
        "import pandas as pd\n",
        "from sklearn.preprocessing import StandardScaler, LabelEncoder\n",
        "from sklearn.model_selection import train_test_split\n",
        "\n",
        "data = pd.read_csv(\"/content/credit_card_default (1).csv\")\n",
        "\n",
        "\n",
        "# Encoding categorical variables (if needed)\n",
        "label_encoder = LabelEncoder()\n",
        "data['SEX'] = label_encoder.fit_transform(data['SEX'])\n",
        "data['EDUCATION'] = label_encoder.fit_transform(data['EDUCATION'])\n",
        "data['MARRIAGE'] = label_encoder.fit_transform(data['MARRIAGE'])\n",
        "\n",
        "# Scaling numerical features\n",
        "scaler = StandardScaler()\n",
        "data[['LIMIT_BAL', 'AGE', 'PAY_1', 'PAY_2', 'PAY_3', 'PAY_4', 'PAY_5', 'PAY_6',\n",
        "      'BILL_AMT1', 'BILL_AMT2', 'BILL_AMT3', 'BILL_AMT4', 'BILL_AMT5', 'BILL_AMT6',\n",
        "      'PAY_AMT1', 'PAY_AMT2', 'PAY_AMT3', 'PAY_AMT4', 'PAY_AMT5', 'PAY_AMT6']] = scaler.fit_transform(data[['LIMIT_BAL', 'AGE', 'PAY_1', 'PAY_2', 'PAY_3', 'PAY_4', 'PAY_5', 'PAY_6',\n",
        "                                                                                                               'BILL_AMT1', 'BILL_AMT2', 'BILL_AMT3', 'BILL_AMT4', 'BILL_AMT5', 'BILL_AMT6',\n",
        "                                                                                                               'PAY_AMT1', 'PAY_AMT2', 'PAY_AMT3', 'PAY_AMT4', 'PAY_AMT5', 'PAY_AMT6']])\n",
        "\n",
        "# Splitting the dataset into training and testing sets\n",
        "X = data.drop(columns=['ID', 'default payment next month'])\n",
        "y = data['default payment next month']\n",
        "X_train, X_test, y_train, y_test = train_test_split(X, y, test_size=0.2, random_state=42)\n",
        "\n",
        "# Check the preprocessed dataset\n",
        "print(\"Preprocessed dataset:\")\n",
        "print(X_train.head())\n"
      ],
      "metadata": {
        "id": "rfFdY95UBW2x",
        "outputId": "a8068216-f7b5-441c-9197-0c3cc8b1e101",
        "colab": {
          "base_uri": "https://localhost:8080/"
        }
      },
      "execution_count": 1,
      "outputs": [
        {
          "output_type": "stream",
          "name": "stdout",
          "text": [
            "Preprocessed dataset:\n",
            "       LIMIT_BAL  SEX  EDUCATION  MARRIAGE       AGE     PAY_1     PAY_2  \\\n",
            "21753  -0.674276    1          2         1 -1.246020  0.014861  0.111736   \n",
            "251    -1.059646    0          2         1 -0.812074  0.014861  0.111736   \n",
            "22941   0.096463    1          5         0  0.923707  0.014861  0.111736   \n",
            "618    -0.828424    0          1         1 -1.137534  0.014861  0.111736   \n",
            "17090  -0.288907    1          2         1 -1.137534  0.014861  0.111736   \n",
            "\n",
            "          PAY_3     PAY_4     PAY_5  ...  BILL_AMT3  BILL_AMT4  BILL_AMT5  \\\n",
            "21753  0.138865  0.188746  0.234917  ...   0.451458   0.473608  -0.010994   \n",
            "251    0.138865  0.188746  0.234917  ...  -0.257514  -0.279923  -0.301177   \n",
            "22941 -0.696663 -0.666599 -0.647565  ...  -0.665672  -0.672497  -0.549877   \n",
            "618    0.138865  0.188746  0.234917  ...  -0.122284  -0.056332  -0.011389   \n",
            "17090  0.138865  0.188746  0.234917  ...   0.976533   1.158992   1.324798   \n",
            "\n",
            "       BILL_AMT6  PAY_AMT1  PAY_AMT2  PAY_AMT3  PAY_AMT4  PAY_AMT5  PAY_AMT6  \n",
            "21753   0.009827 -0.130446 -0.039937 -0.177983 -0.230314 -0.219556 -0.243993  \n",
            "251    -0.652724 -0.039702 -0.202998 -0.248467 -0.247102 -0.314136 -0.293382  \n",
            "22941  -0.479098 -0.341942 -0.220098 -0.296801  0.131172  0.362652 -0.283144  \n",
            "618     0.004504 -0.220104 -0.174526 -0.183208 -0.212313 -0.189775 -0.180878  \n",
            "17090   1.427839 -0.094402 -0.074702 -0.012818  0.011102  0.013131  0.308514  \n",
            "\n",
            "[5 rows x 23 columns]\n"
          ]
        }
      ]
    },
    {
      "cell_type": "code",
      "source": [
        "from sklearn.neighbors import KNeighborsClassifier\n",
        "from sklearn.svm import SVC\n",
        "from sklearn.ensemble import GradientBoostingClassifier, AdaBoostClassifier\n",
        "from xgboost import XGBClassifier\n",
        "\n",
        "# Algorithm Implementation\n",
        "# k-Nearest Neighbors\n",
        "knn = KNeighborsClassifier()\n",
        "knn.fit(X_train, y_train)\n",
        "knn_score = knn.score(X_test, y_test)\n",
        "print(\"kNN Accuracy:\", knn_score)\n",
        "\n",
        "# Support Vector Machine\n",
        "svm = SVC()\n",
        "svm.fit(X_train, y_train)\n",
        "svm_score = svm.score(X_test, y_test)\n",
        "print(\"SVM Accuracy:\", svm_score)\n",
        "\n",
        "# Gradient Boosting\n",
        "gradient_boosting = GradientBoostingClassifier()\n",
        "gradient_boosting.fit(X_train, y_train)\n",
        "gradient_boosting_score = gradient_boosting.score(X_test, y_test)\n",
        "print(\"Gradient Boosting Accuracy:\", gradient_boosting_score)\n",
        "\n",
        "# AdaBoost\n",
        "ada_boost = AdaBoostClassifier()\n",
        "ada_boost.fit(X_train, y_train)\n",
        "ada_boost_score = ada_boost.score(X_test, y_test)\n",
        "print(\"AdaBoost Accuracy:\", ada_boost_score)\n",
        "\n",
        "# XGBoost\n",
        "xgboost = XGBClassifier()\n",
        "xgboost.fit(X_train, y_train)\n",
        "xgboost_score = xgboost.score(X_test, y_test)\n",
        "print(\"XGBoost Accuracy:\", xgboost_score)\n"
      ],
      "metadata": {
        "id": "7eVtPX8hBcuy",
        "outputId": "65d57927-ae51-46f5-9c2a-bdf58caa29f6",
        "colab": {
          "base_uri": "https://localhost:8080/"
        }
      },
      "execution_count": 2,
      "outputs": [
        {
          "output_type": "stream",
          "name": "stdout",
          "text": [
            "kNN Accuracy: 0.7988333333333333\n",
            "SVM Accuracy: 0.8195\n",
            "Gradient Boosting Accuracy: 0.821\n",
            "AdaBoost Accuracy: 0.8165\n",
            "XGBoost Accuracy: 0.8166666666666667\n"
          ]
        }
      ]
    },
    {
      "cell_type": "code",
      "source": [
        "from sklearn.model_selection import GridSearchCV\n",
        "from sklearn.model_selection import RandomizedSearchCV\n",
        "from scipy.stats import randint\n",
        "\n",
        "# Define the parameter distribution\n",
        "param_dist = {\n",
        "    'n_estimators': randint(50, 150),\n",
        "    'learning_rate': [0.05, 0.1, 0.5],\n",
        "    'max_depth': randint(3, 8)\n",
        "}\n",
        "\n",
        "\n",
        "# Create RandomizedSearchCV object with fewer iterations\n",
        "random_search = RandomizedSearchCV(GradientBoostingClassifier(), param_distributions=param_dist, n_iter=5, cv=5)\n",
        "random_search.fit(X_train, y_train)\n",
        "\n",
        "\n",
        "# Get best parameters and score\n",
        "best_params = random_search.best_params_\n",
        "best_score = random_search.best_score_\n",
        "print(\"Best Parameters:\", best_params)\n",
        "print(\"Best Score:\", best_score)\n"
      ],
      "metadata": {
        "id": "QgHZDzgfBe2L",
        "outputId": "b4069b9f-4cf6-4a59-b168-0d6568e32441",
        "colab": {
          "base_uri": "https://localhost:8080/"
        }
      },
      "execution_count": 3,
      "outputs": [
        {
          "output_type": "stream",
          "name": "stdout",
          "text": [
            "Best Parameters: {'learning_rate': 0.05, 'max_depth': 3, 'n_estimators': 60}\n",
            "Best Score: 0.822125\n"
          ]
        }
      ]
    }
  ]
}